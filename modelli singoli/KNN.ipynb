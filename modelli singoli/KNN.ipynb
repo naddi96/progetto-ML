{
 "cells": [
  {
   "cell_type": "code",
   "execution_count": 6,
   "metadata": {},
   "outputs": [],
   "source": [
    "\n",
    "import sklearn\n",
    "from sklearn.decomposition import PCA\n",
    "from MyDatasetLoader import MyDatasetLoader\n",
    "import torch\n",
    "from sklearn.neighbors import KNeighborsClassifier\n",
    "from sklearn import metrics\n",
    "\n",
    "def reduce_dim_pca(dataset,reduce_dim_to):\n",
    "    pca = PCA(n_components=reduce_dim_to)\n",
    "    x= pca.fit_transform(dataset[0].x)\n",
    "   \n",
    "    dataset.data.x =torch.tensor(x,dtype=torch.float32)\n",
    "    return \n"
   ]
  },
  {
   "cell_type": "code",
   "execution_count": 2,
   "metadata": {},
   "outputs": [
    {
     "name": "stderr",
     "output_type": "stream",
     "text": [
      "Processing...\n",
      "Done!\n"
     ]
    },
    {
     "data": {
      "text/plain": [
       "1433"
      ]
     },
     "execution_count": 2,
     "metadata": {},
     "output_type": "execute_result"
    }
   ],
   "source": [
    "dataset=MyDatasetLoader(root='./cora')\n",
    "#reduce_dim_pca(dataset,100)\n",
    "\n",
    "train_x= dataset[0].x[dataset[0].train_mask]\n",
    "train_y= dataset[0].y[dataset[0].train_mask]\n",
    "test_x = dataset[0].x[dataset[0].test_mask]\n",
    "test_y = dataset[0].y[dataset[0].test_mask]\n",
    "len(train_x[0])\n"
   ]
  },
  {
   "cell_type": "code",
   "execution_count": 18,
   "metadata": {},
   "outputs": [
    {
     "name": "stdout",
     "output_type": "stream",
     "text": [
      "Accuracy: 0.2829028290282903\n",
      "f1: 0.06300506779893165\n",
      "{'Neural_Networks': 0, 'Rule_Learning': 1, 'Reinforcement_Learning': 2, 'Probabilistic_Methods': 3, 'Theory': 4, 'Genetic_Algorithms': 5, 'Case_Based': 6}\n",
      "confusion matrix:\n",
      " [[230   0   0   0   0   0   0]\n",
      " [ 47   0   0   0   0   0   0]\n",
      " [ 71   0   0   0   0   0   0]\n",
      " [143   0   0   0   0   0   0]\n",
      " [100   0   0   0   0   0   0]\n",
      " [128   0   0   0   0   0   0]\n",
      " [ 94   0   0   0   0   0   0]]\n"
     ]
    }
   ],
   "source": [
    "clf = KNeighborsClassifier(n_neighbors=5)\n",
    "clf.fit(train_x,train_y)\n",
    "predicted= clf.predict(test_x)\n",
    "y_pred = clf.predict(test_x)\n",
    "print(\"Accuracy:\",metrics.accuracy_score(test_y, y_pred))\n",
    "print(\"f1:\",metrics.f1_score(test_y, y_pred,average='macro'))\n",
    "print(dataset.data.label_map)\n",
    "print(\"confusion matrix:\\n\",metrics.confusion_matrix(test_y, y_pred))\n"
   ]
  }
 ],
 "metadata": {
  "interpreter": {
   "hash": "6b1ab523bc40703e7c4f09cc002dd307caa8b861633741d7ebd49339b733c3d0"
  },
  "kernelspec": {
   "display_name": "Python 3.8.12 64-bit ('tesiNew': conda)",
   "language": "python",
   "name": "python3"
  },
  "language_info": {
   "codemirror_mode": {
    "name": "ipython",
    "version": 3
   },
   "file_extension": ".py",
   "mimetype": "text/x-python",
   "name": "python",
   "nbconvert_exporter": "python",
   "pygments_lexer": "ipython3",
   "version": "3.8.12"
  },
  "orig_nbformat": 4
 },
 "nbformat": 4,
 "nbformat_minor": 2
}
