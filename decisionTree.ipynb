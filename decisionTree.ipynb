{
 "cells": [
  {
   "cell_type": "code",
   "execution_count": 16,
   "metadata": {},
   "outputs": [
    {
     "name": "stderr",
     "output_type": "stream",
     "text": [
      "Processing...\n",
      "Done!\n"
     ]
    },
    {
     "data": {
      "text/plain": [
       "100"
      ]
     },
     "execution_count": 16,
     "metadata": {},
     "output_type": "execute_result"
    }
   ],
   "source": [
    "from sklearn.tree import DecisionTreeClassifier \n",
    "from MyDatasetLoader import MyDatasetLoader\n",
    "from sklearn.decomposition import PCA\n",
    "from sklearn import metrics\n",
    "import torch\n",
    "\n",
    "def reduce_dim_pca(dataset,reduce_dim_to):\n",
    "    pca = PCA(n_components=reduce_dim_to)\n",
    "    x= pca.fit_transform(dataset[0].x)\n",
    "   \n",
    "    dataset.data.x =torch.tensor(x,dtype=torch.float32)\n",
    "    return \n",
    "dataset=MyDatasetLoader(root='./cora')\n",
    "reduce_dim_pca(dataset,100)\n",
    "\n",
    "train_x= dataset[0].x[dataset[0].train_mask]\n",
    "train_y= dataset[0].y[dataset[0].train_mask]\n",
    "test_x = dataset[0].x[dataset[0].test_mask]\n",
    "test_y = dataset[0].y[dataset[0].test_mask]\n",
    "\n",
    "\n",
    "len(train_x[0])\n"
   ]
  },
  {
   "cell_type": "code",
   "execution_count": 20,
   "metadata": {},
   "outputs": [],
   "source": [
    "train_x= dataset[0].x\n",
    "train_y= dataset[0].y\n",
    "test_x = dataset[0].x\n",
    "test_y = dataset[0].y"
   ]
  },
  {
   "cell_type": "code",
   "execution_count": 21,
   "metadata": {},
   "outputs": [
    {
     "name": "stdout",
     "output_type": "stream",
     "text": [
      "Accuracy: 0.7200886262924667\n",
      "f1: 0.7364503248546261\n",
      "{'Neural_Networks': 0, 'Rule_Learning': 1, 'Reinforcement_Learning': 2, 'Probabilistic_Methods': 3, 'Theory': 4, 'Genetic_Algorithms': 5, 'Case_Based': 6}\n",
      "confusion matrix:\n",
      " [[818   0   0   0   0   0   0]\n",
      " [ 83  97   0   0   0   0   0]\n",
      " [ 91   0 126   0   0   0   0]\n",
      " [179   0   0 247   0   0   0]\n",
      " [137   0   0   0 214   0   0]\n",
      " [165   0   0   0   0 253   0]\n",
      " [103   0   0   0   0   0 195]]\n"
     ]
    }
   ],
   "source": [
    "clf = DecisionTreeClassifier()\n",
    "\n",
    "# Train Decision Tree Classifer\n",
    "clf = clf.fit(train_x,train_y)\n",
    "y_pred = clf.predict(test_x)\n",
    "print(\"Accuracy:\",metrics.accuracy_score(test_y, y_pred))\n",
    "print(\"f1:\",metrics.f1_score(test_y, y_pred,average='macro'))\n",
    "print(dataset.data.label_map)\n",
    "print(\"confusion matrix:\\n\",metrics.confusion_matrix(test_y, y_pred))"
   ]
  },
  {
   "cell_type": "code",
   "execution_count": 22,
   "metadata": {},
   "outputs": [
    {
     "name": "stdout",
     "output_type": "stream",
     "text": [
      "Accuracy: 0.7200886262924667\n",
      "Accuracy: 0.7200886262924667\n",
      "f1: 0.7364503248546261\n",
      "{'Neural_Networks': 0, 'Rule_Learning': 1, 'Reinforcement_Learning': 2, 'Probabilistic_Methods': 3, 'Theory': 4, 'Genetic_Algorithms': 5, 'Case_Based': 6}\n",
      "confusion matrix:\n",
      " [[818   0   0   0   0   0   0]\n",
      " [ 83  97   0   0   0   0   0]\n",
      " [ 91   0 126   0   0   0   0]\n",
      " [179   0   0 247   0   0   0]\n",
      " [137   0   0   0 214   0   0]\n",
      " [165   0   0   0   0 253   0]\n",
      " [103   0   0   0   0   0 195]]\n"
     ]
    }
   ],
   "source": [
    "y_pred = clf.predict(train_x)\n",
    "print(\"Accuracy:\",metrics.accuracy_score(train_y, y_pred))\n",
    "print(\"Accuracy:\",metrics.accuracy_score(train_y, y_pred))\n",
    "print(\"f1:\",metrics.f1_score(train_y, y_pred,average='macro'))\n",
    "print(dataset.data.label_map)\n",
    "print(\"confusion matrix:\\n\",metrics.confusion_matrix(train_y, y_pred))"
   ]
  },
  {
   "cell_type": "code",
   "execution_count": 23,
   "metadata": {},
   "outputs": [
    {
     "name": "stdout",
     "output_type": "stream",
     "text": [
      "Accuracy: 0.7200886262924667\n",
      "Accuracy: 0.7200886262924667\n",
      "f1: 0.7364503248546261\n",
      "{'Neural_Networks': 0, 'Rule_Learning': 1, 'Reinforcement_Learning': 2, 'Probabilistic_Methods': 3, 'Theory': 4, 'Genetic_Algorithms': 5, 'Case_Based': 6}\n",
      "confusion matrix:\n",
      " [[818   0   0   0   0   0   0]\n",
      " [ 83  97   0   0   0   0   0]\n",
      " [ 91   0 126   0   0   0   0]\n",
      " [179   0   0 247   0   0   0]\n",
      " [137   0   0   0 214   0   0]\n",
      " [165   0   0   0   0 253   0]\n",
      " [103   0   0   0   0   0 195]]\n"
     ]
    }
   ],
   "source": [
    "clf = DecisionTreeClassifier(criterion=\"entropy\", max_depth=20)\n",
    "clf = clf.fit(train_x,train_y)\n",
    "y_pred = clf.predict(test_x)\n",
    "print(\"Accuracy:\",metrics.accuracy_score(test_y, y_pred))\n",
    "print(\"Accuracy:\",metrics.accuracy_score(test_y, y_pred))\n",
    "print(\"f1:\",metrics.f1_score(test_y, y_pred,average='macro'))\n",
    "print(dataset.data.label_map)\n",
    "print(\"confusion matrix:\\n\",metrics.confusion_matrix(test_y, y_pred))"
   ]
  },
  {
   "cell_type": "code",
   "execution_count": 24,
   "metadata": {},
   "outputs": [
    {
     "name": "stdout",
     "output_type": "stream",
     "text": [
      "Accuracy: 0.7200886262924667\n",
      "f1: 0.7364503248546261\n",
      "{'Neural_Networks': 0, 'Rule_Learning': 1, 'Reinforcement_Learning': 2, 'Probabilistic_Methods': 3, 'Theory': 4, 'Genetic_Algorithms': 5, 'Case_Based': 6}\n",
      "confusion matrix:\n",
      " [[818   0   0   0   0   0   0]\n",
      " [ 83  97   0   0   0   0   0]\n",
      " [ 91   0 126   0   0   0   0]\n",
      " [179   0   0 247   0   0   0]\n",
      " [137   0   0   0 214   0   0]\n",
      " [165   0   0   0   0 253   0]\n",
      " [103   0   0   0   0   0 195]]\n"
     ]
    }
   ],
   "source": [
    "from sklearn.ensemble import RandomForestClassifier\n",
    "clf=RandomForestClassifier(n_estimators=100)\n",
    "clf = clf.fit(train_x,train_y)\n",
    "y_pred = clf.predict(test_x)\n",
    "print(\"Accuracy:\",metrics.accuracy_score(test_y, y_pred))\n",
    "print(\"f1:\",metrics.f1_score(test_y, y_pred,average='macro'))\n",
    "print(dataset.data.label_map)\n",
    "print(\"confusion matrix:\\n\",metrics.confusion_matrix(test_y, y_pred))"
   ]
  }
 ],
 "metadata": {
  "interpreter": {
   "hash": "6b1ab523bc40703e7c4f09cc002dd307caa8b861633741d7ebd49339b733c3d0"
  },
  "kernelspec": {
   "display_name": "Python 3.8.12 64-bit ('tesiNew': conda)",
   "language": "python",
   "name": "python3"
  },
  "language_info": {
   "codemirror_mode": {
    "name": "ipython",
    "version": 3
   },
   "file_extension": ".py",
   "mimetype": "text/x-python",
   "name": "python",
   "nbconvert_exporter": "python",
   "pygments_lexer": "ipython3",
   "version": "3.8.12"
  },
  "orig_nbformat": 4
 },
 "nbformat": 4,
 "nbformat_minor": 2
}
