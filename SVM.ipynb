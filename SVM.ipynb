{
 "cells": [
  {
   "cell_type": "code",
   "execution_count": 33,
   "metadata": {},
   "outputs": [
    {
     "name": "stderr",
     "output_type": "stream",
     "text": [
      "Processing...\n",
      "Done!\n"
     ]
    },
    {
     "data": {
      "text/plain": [
       "1433"
      ]
     },
     "execution_count": 33,
     "metadata": {},
     "output_type": "execute_result"
    }
   ],
   "source": [
    "from MyDatasetLoader import MyDatasetLoader\n",
    "from sklearn import svm\n",
    "from sklearn.decomposition import PCA\n",
    "from MyDatasetLoader import MyDatasetLoader\n",
    "import torch\n",
    "import matplotlib.pyplot as plt\n",
    "from sklearn import metrics\n",
    "import numpy as np\n",
    "from sklearn import model_selection\n",
    "\n",
    "def reduce_dim_pca(dataset,reduce_dim_to):\n",
    "    pca = PCA(n_components=reduce_dim_to)\n",
    "    x= pca.fit_transform(dataset[0].x)\n",
    "   \n",
    "    dataset.data.x =torch.tensor(x,dtype=torch.float32)\n",
    "    return \n",
    "\n",
    "dataset=MyDatasetLoader(root='./cora')\n",
    "#reduce_dim_pca(dataset,100)\n",
    "\n",
    "train_x= dataset[0].x[dataset[0].train_mask]\n",
    "train_y= dataset[0].y[dataset[0].train_mask]\n",
    "test_x = dataset[0].x[dataset[0].test_mask]\n",
    "test_y = dataset[0].y[dataset[0].test_mask]\n",
    "val_x =dataset[0].x[dataset[0].val_mask]\n",
    "val_y =dataset[0].y[dataset[0].val_mask]\n",
    "len(train_x[0])\n",
    "\n"
   ]
  },
  {
   "cell_type": "code",
   "execution_count": 34,
   "metadata": {},
   "outputs": [
    {
     "name": "stdout",
     "output_type": "stream",
     "text": [
      "Accuracy: 0.31851851851851853\n",
      "f1: 0.06902086677367578\n",
      "{'Neural_Networks': 0, 'Rule_Learning': 1, 'Reinforcement_Learning': 2, 'Probabilistic_Methods': 3, 'Theory': 4, 'Genetic_Algorithms': 5, 'Case_Based': 6}\n",
      "confusion matrix:\n",
      " [[86  0  0  0  0  0  0]\n",
      " [14  0  0  0  0  0  0]\n",
      " [11  0  0  0  0  0  0]\n",
      " [47  0  0  0  0  0  0]\n",
      " [36  0  0  0  0  0  0]\n",
      " [48  0  0  0  0  0  0]\n",
      " [28  0  0  0  0  0  0]]\n"
     ]
    }
   ],
   "source": [
    "clf = svm.SVC(kernel='linear') \n",
    "clf = clf.fit(train_x,train_y)\n",
    "y_pred = clf.predict(val_x)\n",
    "print(\"Accuracy:\",metrics.accuracy_score(val_y, y_pred))\n",
    "print(\"f1:\",metrics.f1_score(val_y, y_pred,average='macro'))\n",
    "print(dataset.data.label_map)\n",
    "print(\"confusion matrix:\\n\",metrics.confusion_matrix(val_y, y_pred))"
   ]
  },
  {
   "cell_type": "code",
   "execution_count": 35,
   "metadata": {},
   "outputs": [
    {
     "name": "stdout",
     "output_type": "stream",
     "text": [
      "Accuracy: 0.9981538461538462\n",
      "f1: 0.9981823724365787\n",
      "{'Neural_Networks': 0, 'Rule_Learning': 1, 'Reinforcement_Learning': 2, 'Probabilistic_Methods': 3, 'Theory': 4, 'Genetic_Algorithms': 5, 'Case_Based': 6}\n",
      "confusion matrix:\n",
      " [[493   0   0   0   0   0   0]\n",
      " [  0  97   0   0   0   0   0]\n",
      " [  1   0 125   0   0   0   0]\n",
      " [  0   0   0 247   0   0   0]\n",
      " [  1   0   0   1 212   0   0]\n",
      " [  0   0   0   0   0 253   0]\n",
      " [  0   0   0   0   0   0 195]]\n",
      "Accuracy: 0.8898461538461538\n",
      "f1: 0.9042984576138247\n",
      "{'Neural_Networks': 0, 'Rule_Learning': 1, 'Reinforcement_Learning': 2, 'Probabilistic_Methods': 3, 'Theory': 4, 'Genetic_Algorithms': 5, 'Case_Based': 6}\n",
      "confusion matrix:\n",
      " [[493   0   0   0   0   0   0]\n",
      " [ 20  77   0   0   0   0   0]\n",
      " [ 14   0 112   0   0   0   0]\n",
      " [ 38   0   0 209   0   0   0]\n",
      " [ 31   0   0   0 183   0   0]\n",
      " [ 50   0   0   0   0 203   0]\n",
      " [ 26   0   0   0   0   0 169]]\n",
      "Accuracy: 0.9556923076923077\n",
      "f1: 0.9604114646063069\n",
      "{'Neural_Networks': 0, 'Rule_Learning': 1, 'Reinforcement_Learning': 2, 'Probabilistic_Methods': 3, 'Theory': 4, 'Genetic_Algorithms': 5, 'Case_Based': 6}\n",
      "confusion matrix:\n",
      " [[490   0   0   2   1   0   0]\n",
      " [  6  90   0   0   1   0   0]\n",
      " [  6   0 118   0   0   2   0]\n",
      " [ 13   0   0 232   1   0   1]\n",
      " [ 10   0   0   2 202   0   0]\n",
      " [ 16   0   0   0   0 237   0]\n",
      " [ 10   0   0   0   1   0 184]]\n"
     ]
    }
   ],
   "source": [
    "\n",
    "# fit the model\n",
    "fignum = 1\n",
    "for kern in (\"linear\", \"poly\", \"rbf\"):\n",
    "    clf = svm.SVC(kernel=kern) \n",
    "    clf = clf.fit(train_x,train_y)\n",
    "    y_pred = clf.predict(train_x)\n",
    "    print(\"Accuracy:\",metrics.accuracy_score(train_y, y_pred))\n",
    "    print(\"f1:\",metrics.f1_score(train_y, y_pred,average='macro'))\n",
    "    print(dataset.data.label_map)\n",
    "    print(\"confusion matrix:\\n\",metrics.confusion_matrix(train_y, y_pred))\n",
    "    "
   ]
  },
  {
   "cell_type": "code",
   "execution_count": 36,
   "metadata": {},
   "outputs": [
    {
     "name": "stdout",
     "output_type": "stream",
     "text": [
      "linear\n",
      "Accuracy: 0.2939729397293973\n",
      "f1: 0.06491037479630636\n",
      "{'Neural_Networks': 0, 'Rule_Learning': 1, 'Reinforcement_Learning': 2, 'Probabilistic_Methods': 3, 'Theory': 4, 'Genetic_Algorithms': 5, 'Case_Based': 6}\n",
      "confusion matrix:\n",
      " [[239   0   0   0   0   0   0]\n",
      " [ 69   0   0   0   0   0   0]\n",
      " [ 80   0   0   0   0   0   0]\n",
      " [132   0   0   0   0   0   0]\n",
      " [101   0   0   0   0   0   0]\n",
      " [117   0   0   0   0   0   0]\n",
      " [ 75   0   0   0   0   0   0]]\n",
      "linear\n",
      "Accuracy: 0.2939729397293973\n",
      "f1: 0.06491037479630636\n",
      "{'Neural_Networks': 0, 'Rule_Learning': 1, 'Reinforcement_Learning': 2, 'Probabilistic_Methods': 3, 'Theory': 4, 'Genetic_Algorithms': 5, 'Case_Based': 6}\n",
      "confusion matrix:\n",
      " [[239   0   0   0   0   0   0]\n",
      " [ 69   0   0   0   0   0   0]\n",
      " [ 80   0   0   0   0   0   0]\n",
      " [132   0   0   0   0   0   0]\n",
      " [101   0   0   0   0   0   0]\n",
      " [117   0   0   0   0   0   0]\n",
      " [ 75   0   0   0   0   0   0]]\n",
      "linear\n",
      "Accuracy: 0.2939729397293973\n",
      "f1: 0.06491037479630636\n",
      "{'Neural_Networks': 0, 'Rule_Learning': 1, 'Reinforcement_Learning': 2, 'Probabilistic_Methods': 3, 'Theory': 4, 'Genetic_Algorithms': 5, 'Case_Based': 6}\n",
      "confusion matrix:\n",
      " [[239   0   0   0   0   0   0]\n",
      " [ 69   0   0   0   0   0   0]\n",
      " [ 80   0   0   0   0   0   0]\n",
      " [132   0   0   0   0   0   0]\n",
      " [101   0   0   0   0   0   0]\n",
      " [117   0   0   0   0   0   0]\n",
      " [ 75   0   0   0   0   0   0]]\n"
     ]
    }
   ],
   "source": [
    "\n",
    "# fit the model\n",
    "fignum = 1\n",
    "for kern in [\"linear\", \"poly\", \"rbf\"]:\n",
    "    clf = svm.SVC(kernel=kern) \n",
    "    clf = clf.fit(train_x,train_y)\n",
    "    y_pred = clf.predict(test_x)\n",
    "    print(kern)\n",
    "    print(\"Accuracy:\",metrics.accuracy_score(test_y, y_pred))\n",
    "    print(\"f1:\",metrics.f1_score(test_y, y_pred,average='macro'))\n",
    "    print(dataset.data.label_map)\n",
    "    print(\"confusion matrix:\\n\",metrics.confusion_matrix(test_y, y_pred))"
   ]
  }
 ],
 "metadata": {
  "interpreter": {
   "hash": "6b1ab523bc40703e7c4f09cc002dd307caa8b861633741d7ebd49339b733c3d0"
  },
  "kernelspec": {
   "display_name": "Python 3.8.12 64-bit ('tesiNew': conda)",
   "language": "python",
   "name": "python3"
  },
  "language_info": {
   "codemirror_mode": {
    "name": "ipython",
    "version": 3
   },
   "file_extension": ".py",
   "mimetype": "text/x-python",
   "name": "python",
   "nbconvert_exporter": "python",
   "pygments_lexer": "ipython3",
   "version": "3.8.12"
  },
  "orig_nbformat": 4
 },
 "nbformat": 4,
 "nbformat_minor": 2
}
